{
 "cells": [
  {
   "cell_type": "code",
   "execution_count": 1,
   "id": "0ef286fe-1c67-4be8-977f-502f9356364f",
   "metadata": {},
   "outputs": [],
   "source": [
    "import numpy as np\n",
    "import pandas as pd\n",
    "import geopandas as gpd\n",
    "import json\n",
    "\n",
    "#load the data\n",
    "#housedata = pd.read_csv(\"Neighborhood_zhvi_uc_sfrcondo_tier_0.33_0.67_sm_sa_month.csv\")\n",
    "incomedata = pd.read_csv(\"US counties - education vs per capita personal income - results-20221227-213216.csv\")\n"
   ]
  },
  {
   "cell_type": "code",
   "execution_count": 6,
   "id": "675a3e1c-2937-43cd-a216-ed2a3a320cbe",
   "metadata": {},
   "outputs": [
    {
     "data": {
      "text/plain": [
       "(3006, 10)"
      ]
     },
     "execution_count": 6,
     "metadata": {},
     "output_type": "execute_result"
    }
   ],
   "source": [
    "incomedata.shape\n"
   ]
  },
  {
   "cell_type": "code",
   "execution_count": 7,
   "id": "09caac4f-e222-4324-8d38-3b2e43bf9952",
   "metadata": {},
   "outputs": [
    {
     "data": {
      "text/html": [
       "<div>\n",
       "<style scoped>\n",
       "    .dataframe tbody tr th:only-of-type {\n",
       "        vertical-align: middle;\n",
       "    }\n",
       "\n",
       "    .dataframe tbody tr th {\n",
       "        vertical-align: top;\n",
       "    }\n",
       "\n",
       "    .dataframe thead th {\n",
       "        text-align: right;\n",
       "    }\n",
       "</style>\n",
       "<table border=\"1\" class=\"dataframe\">\n",
       "  <thead>\n",
       "    <tr style=\"text-align: right;\">\n",
       "      <th></th>\n",
       "      <th>county_FIPS</th>\n",
       "      <th>state</th>\n",
       "      <th>county</th>\n",
       "      <th>per_capita_personal_income_2019</th>\n",
       "      <th>per_capita_personal_income_2020</th>\n",
       "      <th>per_capita_personal_income_2021</th>\n",
       "      <th>associate_degree_numbers_2016_2020</th>\n",
       "      <th>bachelor_degree_numbers_2016_2020</th>\n",
       "      <th>associate_degree_percentage_2016_2020</th>\n",
       "      <th>bachelor_degree_percentage_2015_2019</th>\n",
       "    </tr>\n",
       "  </thead>\n",
       "  <tbody>\n",
       "    <tr>\n",
       "      <th>0</th>\n",
       "      <td>51013</td>\n",
       "      <td>VA</td>\n",
       "      <td>Arlington, VA</td>\n",
       "      <td>97629</td>\n",
       "      <td>100687</td>\n",
       "      <td>107603</td>\n",
       "      <td>19573</td>\n",
       "      <td>132394</td>\n",
       "      <td>11.21</td>\n",
       "      <td>75.84</td>\n",
       "    </tr>\n",
       "    <tr>\n",
       "      <th>1</th>\n",
       "      <td>35028</td>\n",
       "      <td>NM</td>\n",
       "      <td>Los Alamos, NM</td>\n",
       "      <td>72366</td>\n",
       "      <td>75949</td>\n",
       "      <td>81306</td>\n",
       "      <td>2766</td>\n",
       "      <td>9098</td>\n",
       "      <td>20.54</td>\n",
       "      <td>67.56</td>\n",
       "    </tr>\n",
       "    <tr>\n",
       "      <th>2</th>\n",
       "      <td>8013</td>\n",
       "      <td>CO</td>\n",
       "      <td>Boulder, CO</td>\n",
       "      <td>79698</td>\n",
       "      <td>83173</td>\n",
       "      <td>89593</td>\n",
       "      <td>45834</td>\n",
       "      <td>135876</td>\n",
       "      <td>21.24</td>\n",
       "      <td>62.97</td>\n",
       "    </tr>\n",
       "    <tr>\n",
       "      <th>3</th>\n",
       "      <td>24027</td>\n",
       "      <td>MD</td>\n",
       "      <td>Howard, MD</td>\n",
       "      <td>78013</td>\n",
       "      <td>82041</td>\n",
       "      <td>86380</td>\n",
       "      <td>42538</td>\n",
       "      <td>136792</td>\n",
       "      <td>19.49</td>\n",
       "      <td>62.67</td>\n",
       "    </tr>\n",
       "    <tr>\n",
       "      <th>4</th>\n",
       "      <td>36061</td>\n",
       "      <td>NY</td>\n",
       "      <td>New York, NY</td>\n",
       "      <td>173525</td>\n",
       "      <td>175327</td>\n",
       "      <td>195543</td>\n",
       "      <td>167960</td>\n",
       "      <td>777483</td>\n",
       "      <td>13.43</td>\n",
       "      <td>62.18</td>\n",
       "    </tr>\n",
       "  </tbody>\n",
       "</table>\n",
       "</div>"
      ],
      "text/plain": [
       "   county_FIPS state          county  per_capita_personal_income_2019  \\\n",
       "0        51013    VA   Arlington, VA                            97629   \n",
       "1        35028    NM  Los Alamos, NM                            72366   \n",
       "2         8013    CO     Boulder, CO                            79698   \n",
       "3        24027    MD      Howard, MD                            78013   \n",
       "4        36061    NY    New York, NY                           173525   \n",
       "\n",
       "   per_capita_personal_income_2020  per_capita_personal_income_2021  \\\n",
       "0                           100687                           107603   \n",
       "1                            75949                            81306   \n",
       "2                            83173                            89593   \n",
       "3                            82041                            86380   \n",
       "4                           175327                           195543   \n",
       "\n",
       "   associate_degree_numbers_2016_2020  bachelor_degree_numbers_2016_2020  \\\n",
       "0                               19573                             132394   \n",
       "1                                2766                               9098   \n",
       "2                               45834                             135876   \n",
       "3                               42538                             136792   \n",
       "4                              167960                             777483   \n",
       "\n",
       "   associate_degree_percentage_2016_2020  bachelor_degree_percentage_2015_2019  \n",
       "0                                  11.21                                 75.84  \n",
       "1                                  20.54                                 67.56  \n",
       "2                                  21.24                                 62.97  \n",
       "3                                  19.49                                 62.67  \n",
       "4                                  13.43                                 62.18  "
      ]
     },
     "execution_count": 7,
     "metadata": {},
     "output_type": "execute_result"
    }
   ],
   "source": [
    "incomedata.head()"
   ]
  },
  {
   "cell_type": "code",
   "execution_count": 9,
   "id": "51564b42-8c78-4181-ac76-0346d383b31e",
   "metadata": {},
   "outputs": [],
   "source": [
    "#To check if the data is all there\n",
    "missing_data = incomedata.isna().mean().sort_values()"
   ]
  },
  {
   "cell_type": "code",
   "execution_count": 10,
   "id": "af3a207d-822a-4c32-b361-24087af683a3",
   "metadata": {},
   "outputs": [
    {
     "data": {
      "text/plain": [
       "<AxesSubplot: >"
      ]
     },
     "execution_count": 10,
     "metadata": {},
     "output_type": "execute_result"
    },
    {
     "data": {
      "image/png": "[encoded data removed]",
      "text/plain": [
       "<Figure size 640x480 with 1 Axes>"
      ]
     },
     "metadata": {},
     "output_type": "display_data"
    }
   ],
   "source": [
    "missing_data.hist(bins=100)"
   ]
  },
  {
   "cell_type": "markdown",
   "id": "57c21e0e-53b7-45f7-bd1a-f19d0537800b",
   "metadata": {},
   "source": [
    "# Things we could learn\n",
    "- Where did the value go down?\n",
    "- Do degrees help grow the income for a county?\n",
    "- What is the total GDP of the county?\n",
    "- How does the GDP of the county corrilate to the house value\n"
   ]
  },
  {
   "cell_type": "code",
   "execution_count": 20,
   "id": "f1768236-4e5b-4ffa-8449-9e4c681ad6b1",
   "metadata": {},
   "outputs": [],
   "source": [
    "# Where did the value go down?\n",
    "def income_diff(series: pd.Series) -> int : #next time use 3.9 so we can use more type safety\n",
    "    per_capita_personal_income_2019 = series['per_capita_personal_income_2019']\n",
    "    per_capita_personal_income_2021 = series['per_capita_personal_income_2021']\n",
    "    return per_capita_personal_income_2021 - per_capita_personal_income_2019\n",
    "    \n",
    "incomedata[\"income_diff\"] = incomedata.apply(income_diff, axis = 1)  #the 1 made it look at rows instead of columns (default)\n",
    "\n"
   ]
  },
  {
   "cell_type": "code",
   "execution_count": 24,
   "id": "6b51df6e-4817-4f10-a14d-9be81e05fe55",
   "metadata": {},
   "outputs": [
    {
     "data": {
      "text/html": [
       "<div>\n",
       "<style scoped>\n",
       "    .dataframe tbody tr th:only-of-type {\n",
       "        vertical-align: middle;\n",
       "    }\n",
       "\n",
       "    .dataframe tbody tr th {\n",
       "        vertical-align: top;\n",
       "    }\n",
       "\n",
       "    .dataframe thead th {\n",
       "        text-align: right;\n",
       "    }\n",
       "</style>\n",
       "<table border=\"1\" class=\"dataframe\">\n",
       "  <thead>\n",
       "    <tr style=\"text-align: right;\">\n",
       "      <th></th>\n",
       "      <th>county_FIPS</th>\n",
       "      <th>state</th>\n",
       "      <th>county</th>\n",
       "      <th>per_capita_personal_income_2019</th>\n",
       "      <th>per_capita_personal_income_2020</th>\n",
       "      <th>per_capita_personal_income_2021</th>\n",
       "      <th>associate_degree_numbers_2016_2020</th>\n",
       "      <th>bachelor_degree_numbers_2016_2020</th>\n",
       "      <th>associate_degree_percentage_2016_2020</th>\n",
       "      <th>bachelor_degree_percentage_2015_2019</th>\n",
       "      <th>income_diff</th>\n",
       "    </tr>\n",
       "  </thead>\n",
       "  <tbody>\n",
       "    <tr>\n",
       "      <th>0</th>\n",
       "      <td>51013</td>\n",
       "      <td>VA</td>\n",
       "      <td>Arlington, VA</td>\n",
       "      <td>97629</td>\n",
       "      <td>100687</td>\n",
       "      <td>107603</td>\n",
       "      <td>19573</td>\n",
       "      <td>132394</td>\n",
       "      <td>11.21</td>\n",
       "      <td>75.84</td>\n",
       "      <td>9974</td>\n",
       "    </tr>\n",
       "    <tr>\n",
       "      <th>1</th>\n",
       "      <td>35028</td>\n",
       "      <td>NM</td>\n",
       "      <td>Los Alamos, NM</td>\n",
       "      <td>72366</td>\n",
       "      <td>75949</td>\n",
       "      <td>81306</td>\n",
       "      <td>2766</td>\n",
       "      <td>9098</td>\n",
       "      <td>20.54</td>\n",
       "      <td>67.56</td>\n",
       "      <td>8940</td>\n",
       "    </tr>\n",
       "    <tr>\n",
       "      <th>2</th>\n",
       "      <td>8013</td>\n",
       "      <td>CO</td>\n",
       "      <td>Boulder, CO</td>\n",
       "      <td>79698</td>\n",
       "      <td>83173</td>\n",
       "      <td>89593</td>\n",
       "      <td>45834</td>\n",
       "      <td>135876</td>\n",
       "      <td>21.24</td>\n",
       "      <td>62.97</td>\n",
       "      <td>9895</td>\n",
       "    </tr>\n",
       "    <tr>\n",
       "      <th>3</th>\n",
       "      <td>24027</td>\n",
       "      <td>MD</td>\n",
       "      <td>Howard, MD</td>\n",
       "      <td>78013</td>\n",
       "      <td>82041</td>\n",
       "      <td>86380</td>\n",
       "      <td>42538</td>\n",
       "      <td>136792</td>\n",
       "      <td>19.49</td>\n",
       "      <td>62.67</td>\n",
       "      <td>8367</td>\n",
       "    </tr>\n",
       "    <tr>\n",
       "      <th>4</th>\n",
       "      <td>36061</td>\n",
       "      <td>NY</td>\n",
       "      <td>New York, NY</td>\n",
       "      <td>173525</td>\n",
       "      <td>175327</td>\n",
       "      <td>195543</td>\n",
       "      <td>167960</td>\n",
       "      <td>777483</td>\n",
       "      <td>13.43</td>\n",
       "      <td>62.18</td>\n",
       "      <td>22018</td>\n",
       "    </tr>\n",
       "  </tbody>\n",
       "</table>\n",
       "</div>"
      ],
      "text/plain": [
       "   county_FIPS state          county  per_capita_personal_income_2019  \\\n",
       "0        51013    VA   Arlington, VA                            97629   \n",
       "1        35028    NM  Los Alamos, NM                            72366   \n",
       "2         8013    CO     Boulder, CO                            79698   \n",
       "3        24027    MD      Howard, MD                            78013   \n",
       "4        36061    NY    New York, NY                           173525   \n",
       "\n",
       "   per_capita_personal_income_2020  per_capita_personal_income_2021  \\\n",
       "0                           100687                           107603   \n",
       "1                            75949                            81306   \n",
       "2                            83173                            89593   \n",
       "3                            82041                            86380   \n",
       "4                           175327                           195543   \n",
       "\n",
       "   associate_degree_numbers_2016_2020  bachelor_degree_numbers_2016_2020  \\\n",
       "0                               19573                             132394   \n",
       "1                                2766                               9098   \n",
       "2                               45834                             135876   \n",
       "3                               42538                             136792   \n",
       "4                              167960                             777483   \n",
       "\n",
       "   associate_degree_percentage_2016_2020  \\\n",
       "0                                  11.21   \n",
       "1                                  20.54   \n",
       "2                                  21.24   \n",
       "3                                  19.49   \n",
       "4                                  13.43   \n",
       "\n",
       "   bachelor_degree_percentage_2015_2019  income_diff  \n",
       "0                                 75.84         9974  \n",
       "1                                 67.56         8940  \n",
       "2                                 62.97         9895  \n",
       "3                                 62.67         8367  \n",
       "4                                 62.18        22018  "
      ]
     },
     "execution_count": 24,
     "metadata": {},
     "output_type": "execute_result"
    }
   ],
   "source": [
    "incomedata.head()"
   ]
  },
  {
   "cell_type": "code",
   "execution_count": 28,
   "id": "a540cfe5-a02f-492e-b3b2-2630f9fb224b",
   "metadata": {},
   "outputs": [
    {
     "data": {
      "text/plain": [
       "array([[<AxesSubplot: title={'center': 'income_diff'}>]], dtype=object)"
      ]
     },
     "execution_count": 28,
     "metadata": {},
     "output_type": "execute_result"
    },
    {
     "data": {
      "image/png": "[encoded data removed]",
      "text/plain": [
       "<Figure size 640x480 with 1 Axes>"
      ]
     },
     "metadata": {},
     "output_type": "display_data"
    }
   ],
   "source": [
    "incomedata.hist(column='income_diff', bins=100)"
   ]
  },
  {
   "cell_type": "code",
   "execution_count": 29,
   "id": "f8203bc6-ea9c-4edb-b62f-51aa2383466e",
   "metadata": {},
   "outputs": [],
   "source": [
    "# Some areas did go down, and we had some very wealthy areas where it shot up.\n",
    "# Can we coorilate that house prices went up or down in response to income level?\n"
   ]
  },
  {
   "cell_type": "code",
   "execution_count": null,
   "id": "b90f0b8b-e3d3-453b-b563-8e147da01852",
   "metadata": {},
   "outputs": [],
   "source": []
  }
 ],
 "metadata": {
  "kernelspec": {
   "display_name": "Python 3 (ipykernel)",
   "language": "python",
   "name": "python3"
  },
  "language_info": {
   "codemirror_mode": {
    "name": "ipython",
    "version": 3
   },
   "file_extension": ".py",
   "mimetype": "text/x-python",
   "name": "python",
   "nbconvert_exporter": "python",
   "pygments_lexer": "ipython3",
   "version": "3.8.2"
  }
 },
 "nbformat": 4,
 "nbformat_minor": 5
}
