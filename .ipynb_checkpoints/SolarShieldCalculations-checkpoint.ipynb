{
 "cells": [
  {
   "cell_type": "markdown",
   "id": "6aebf30b-45d4-470d-89ad-b43fa52da8cd",
   "metadata": {},
   "source": [
    "# Constants\n",
    "Radius of Earth = 6,378 km\n",
    "240 watts absorbed by earth\n",
    "\n",
    "[Solar Constant:](https://en.wikipedia.org/wiki/Solar_constant) It is measured by satellite as being 1.361 kilowatts per square meter (kW/m2)\n",
    "\n",
    "[L1](https://en.wikipedia.org/wiki/Lagrange_point) is the point to put the shield since it is gravitationally between both the Sun and the Earth and therefor is the most efficient to keep the system in place"
   ]
  },
  {
   "cell_type": "code",
   "execution_count": 36,
   "id": "a79eeb7d-32a4-4780-a926-b4844b0de39d",
   "metadata": {},
   "outputs": [
    {
     "name": "stdout",
     "output_type": "stream",
     "text": [
      "127796483130631.38\n"
     ]
    }
   ],
   "source": [
    "#Total Energy\n",
    "import math \n",
    "\n",
    "earthRadius = 6378000\n",
    "solarConstant = 1361\n",
    "\n",
    "earthVisibleArea = earthRadius * earthRadius * math.pi\n",
    "\n",
    "print(earthVisibleArea)"
   ]
  },
  {
   "cell_type": "code",
   "execution_count": 37,
   "id": "c2f6cdcb-f623-49c1-8e96-046a7c51a688",
   "metadata": {},
   "outputs": [
    {
     "name": "stdout",
     "output_type": "stream",
     "text": [
      "1.739310135407893e+17\n"
     ]
    }
   ],
   "source": [
    "totalEnergy = earthVisibleArea * solarConstant\n",
    "\n",
    "#Amount of energy getting to Earth in watts\n",
    "print(totalEnergy)"
   ]
  },
  {
   "cell_type": "code",
   "execution_count": 10,
   "id": "22360087-e4a2-413b-b48d-bd05655fa2d9",
   "metadata": {},
   "outputs": [
    {
     "name": "stdout",
     "output_type": "stream",
     "text": [
      "17.634092578986042\n"
     ]
    }
   ],
   "source": [
    "absorbEarth = 240\n",
    "percentKept = absorbEarth/solarConstant *100\n",
    "print(percentKept)"
   ]
  },
  {
   "cell_type": "code",
   "execution_count": 11,
   "id": "0d242b5c-568b-46d6-932f-c966485959ec",
   "metadata": {},
   "outputs": [
    {
     "name": "stdout",
     "output_type": "stream",
     "text": [
      "3.0671155951351532e+16\n"
     ]
    }
   ],
   "source": [
    "#Amount of energy heating the earth in Watts\n",
    "earthEnergy = totalEnergy * absorbEarth/solarConstant\n",
    "print(earthEnergy)"
   ]
  },
  {
   "cell_type": "markdown",
   "id": "7cbdbf12-f15c-4376-801c-7cd5f7d1689e",
   "metadata": {},
   "source": [
    "# How many Watts do we need to reduce to change the temperature by one degree Celcius \n",
    "total in Joules (one watt is one joule of energy every second)\n",
    "\n",
    "It takes [533,000,000 kJ](https://www.quora.com/Has-anyone-calculated-how-much-energy-is-required-to-raise-the-temperature-of-Earth-our-planet-by-one-degree) to warm the Earth 1 degree Celcius.\n",
    "\n",
    "I'm assuming that it is the same change to reduce the Earth by 1 degree Celcius\n"
   ]
  },
  {
   "cell_type": "code",
   "execution_count": 39,
   "id": "b004ffdb-0c06-4a90-a33f-a242435b224d",
   "metadata": {},
   "outputs": [
    {
     "name": "stdout",
     "output_type": "stream",
     "text": [
      "46051200000000\n"
     ]
    }
   ],
   "source": [
    "energyOfOneDegree = 533000000\n",
    "numberOfSeconds = 24*60*60\n",
    "wattChange = energyOfOneDegree * numberOfSeconds\n",
    "print(wattChange)"
   ]
  },
  {
   "cell_type": "markdown",
   "id": "63db5127-fa89-47f4-8b64-3467a2a5a561",
   "metadata": {},
   "source": [
    "# How much surface area do you need to block?\n",
    "Temperature of Space = [-270.42 Celsius](https://www.scienceabc.com/nature/universe/what-is-the-temperature-of-space.html)\n",
    "Average temp on Earth = [13.9 degrees Celsius](https://www.space.com/17816-earth-temperature.html)\n"
   ]
  },
  {
   "cell_type": "code",
   "execution_count": 19,
   "id": "c04b28e7-de61-4c0b-bcc2-52e050951da1",
   "metadata": {},
   "outputs": [
    {
     "name": "stdout",
     "output_type": "stream",
     "text": [
      "0.15014497684092257\n"
     ]
    }
   ],
   "source": [
    "percentChange = wattChange/earthEnergy * 100\n",
    "print(percentChange)"
   ]
  },
  {
   "cell_type": "code",
   "execution_count": 18,
   "id": "ac84b5c3-1f02-4766-a5d6-43d339e1ca44",
   "metadata": {},
   "outputs": [],
   "source": [
    "# Err? This doesn't totally feel right, 0.15% change in energy reaching the earth seems really small. I guess it makes some sort of sense \n",
    "# because without the sun the Earth would be -270.42 Celsius"
   ]
  },
  {
   "cell_type": "code",
   "execution_count": 38,
   "id": "55b966d0-c25b-45a9-bca3-cd75a159c258",
   "metadata": {},
   "outputs": [
    {
     "name": "stdout",
     "output_type": "stream",
     "text": [
      "284.32\n"
     ]
    }
   ],
   "source": [
    "tempDiff = 13.9 + 270.42\n",
    "print(tempDiff)"
   ]
  },
  {
   "cell_type": "code",
   "execution_count": 40,
   "id": "d03bb76e-3aca-4096-8d39-ed1c85caa680",
   "metadata": {},
   "outputs": [
    {
     "name": "stdout",
     "output_type": "stream",
     "text": [
      "1.3093277184e+16\n"
     ]
    }
   ],
   "source": [
    "totalWarmingEnergy = tempDiff * wattChange\n",
    "print(totalWarmingEnergy)"
   ]
  },
  {
   "cell_type": "code",
   "execution_count": 22,
   "id": "cd80b3ac-7190-478d-91aa-c085019d3556",
   "metadata": {},
   "outputs": [
    {
     "name": "stdout",
     "output_type": "stream",
     "text": [
      "42.6892198154111\n"
     ]
    }
   ],
   "source": [
    "tempCheck = tempDiff * percentChange\n",
    "\n",
    "print(tempCheck)"
   ]
  },
  {
   "cell_type": "code",
   "execution_count": 23,
   "id": "fdfd35d5-c53c-4f50-b3d3-0b27ad4ee6d2",
   "metadata": {},
   "outputs": [],
   "source": [
    "# Ok, I could buy this, it isn't too crazy, if we just assume every percentChange goes up 1 degree and check against the\n",
    "# average temp of Earth then it only ends up 42 degrees over what we would expect. I'm assuming this calculation is a bit rough but \n",
    "# not completely off course"
   ]
  },
  {
   "cell_type": "code",
   "execution_count": 25,
   "id": "7056745e-775c-4d2e-84f3-7d8792e027be",
   "metadata": {},
   "outputs": [
    {
     "name": "stdout",
     "output_type": "stream",
     "text": [
      "191879999999.99997\n"
     ]
    }
   ],
   "source": [
    "blockArea = earthVisibleArea * wattChange/earthEnergy\n",
    "print(blockArea) #meters sq"
   ]
  },
  {
   "cell_type": "code",
   "execution_count": 29,
   "id": "22e73a64-14de-48e2-9b87-fb0473b25085",
   "metadata": {},
   "outputs": [
    {
     "name": "stdout",
     "output_type": "stream",
     "text": [
      "438.04109396265545\n"
     ]
    }
   ],
   "source": [
    "shieldSideSize = math.sqrt(blockArea)/1000\n",
    "print(shieldSideSize) # A big square with this in km on each side"
   ]
  },
  {
   "cell_type": "code",
   "execution_count": 30,
   "id": "eb6b828d-fa72-4633-a0c6-6cab36d4a423",
   "metadata": {},
   "outputs": [
    {
     "name": "stdout",
     "output_type": "stream",
     "text": [
      "191879.99999999994\n"
     ]
    }
   ],
   "source": [
    "totalKMShield = shieldSideSize * shieldSideSize\n",
    "print(totalKMShield)"
   ]
  },
  {
   "cell_type": "markdown",
   "id": "f14ea58a-e0d8-45e2-956d-6126c0dedf85",
   "metadata": {},
   "source": [
    "Weird this actually is close to the size of [Washington](https://en.wikipedia.org/wiki/List_of_U.S._states_and_territories_by_area)\n",
    "\n",
    "So this isn't too far off from what I would expect."
   ]
  },
  {
   "cell_type": "markdown",
   "id": "121ec339-7dd5-4d00-a26b-3b75c905807b",
   "metadata": {},
   "source": [
    "# How many craft do you need?\n",
    "Area of a [football field](https://www.dimensions.com/element/american-football-field)"
   ]
  },
  {
   "cell_type": "code",
   "execution_count": 31,
   "id": "07ea9298-8b11-41df-a297-0dcbe67384ac",
   "metadata": {},
   "outputs": [
    {
     "name": "stdout",
     "output_type": "stream",
     "text": [
      "0.0053503125\n"
     ]
    }
   ],
   "source": [
    "kmFootballField = 0.10975 * 0.04875\n",
    "print(kmFootballField)"
   ]
  },
  {
   "cell_type": "code",
   "execution_count": 32,
   "id": "29c3a984-1348-4ee5-8887-24dbfa6fccfe",
   "metadata": {},
   "outputs": [
    {
     "name": "stdout",
     "output_type": "stream",
     "text": [
      "186.90497050405935\n"
     ]
    }
   ],
   "source": [
    "numberFootballField = 1/kmFootballField\n",
    "print(numberFootballField)"
   ]
  },
  {
   "cell_type": "code",
   "execution_count": 33,
   "id": "eda632e9-eade-4a15-953e-993e67adb25c",
   "metadata": {},
   "outputs": [],
   "source": [
    "# Answer, about 200,000 1km X 1km shields"
   ]
  },
  {
   "cell_type": "markdown",
   "id": "8349532d-318d-4f80-8de5-013a2368214d",
   "metadata": {},
   "source": [
    "# How much pressure would that create?\n",
    "[Radiation Pressure](https://en.wikipedia.org/wiki/Radiation_pressure)\n",
    "Radiation pressure in μPa (μN/m2) : estimate for about 9 at L1"
   ]
  },
  {
   "cell_type": "code",
   "execution_count": 34,
   "id": "d2b3aaa1-79be-44ce-bc52-22af0ec32747",
   "metadata": {},
   "outputs": [],
   "source": [
    "totalPressure = 9 * 1000 * 1000/1000000"
   ]
  },
  {
   "cell_type": "code",
   "execution_count": 35,
   "id": "df5fa127-e24c-45b5-b168-24a0e03857f0",
   "metadata": {},
   "outputs": [
    {
     "name": "stdout",
     "output_type": "stream",
     "text": [
      "9.0\n"
     ]
    }
   ],
   "source": [
    "print(totalPressure)"
   ]
  },
  {
   "cell_type": "code",
   "execution_count": 44,
   "id": "cdfd0300-8a4b-4ce7-8fa2-233edecedb84",
   "metadata": {},
   "outputs": [
    {
     "name": "stdout",
     "output_type": "stream",
     "text": [
      "212174790.24304503\n"
     ]
    }
   ],
   "source": [
    "# If you deconstructed apophis it has this many cubic meter\n",
    "apophisVolume = (4/3) * math.pi * pow(370, 3)\n",
    "print(apophisVolume)"
   ]
  },
  {
   "cell_type": "code",
   "execution_count": 45,
   "id": "27f69db9-04d1-4ed8-b591-332cb87377f5",
   "metadata": {},
   "outputs": [
    {
     "name": "stdout",
     "output_type": "stream",
     "text": [
      "0.001105768137601861\n"
     ]
    }
   ],
   "source": [
    "# Spread that out over 200,000 km\n",
    "thinkness = apophisVolume/blockArea\n",
    "print(thinkness)"
   ]
  },
  {
   "cell_type": "code",
   "execution_count": null,
   "id": "1bd79d79-657e-4473-977a-0adc01624cc5",
   "metadata": {},
   "outputs": [],
   "source": []
  }
 ],
 "metadata": {
  "kernelspec": {
   "display_name": "Python 3 (ipykernel)",
   "language": "python",
   "name": "python3"
  },
  "language_info": {
   "codemirror_mode": {
    "name": "ipython",
    "version": 3
   },
   "file_extension": ".py",
   "mimetype": "text/x-python",
   "name": "python",
   "nbconvert_exporter": "python",
   "pygments_lexer": "ipython3",
   "version": "3.8.2"
  }
 },
 "nbformat": 4,
 "nbformat_minor": 5
}
